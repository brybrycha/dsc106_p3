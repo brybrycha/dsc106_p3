{
 "cells": [
  {
   "cell_type": "code",
   "execution_count": 1,
   "metadata": {},
   "outputs": [],
   "source": [
    "import numpy as np\n",
    "import math as math\n",
    "import pandas as pd\n",
    "import matplotlib.pyplot as plt\n",
    "from scipy.optimize import fsolve\n",
    "from scipy.stats import multivariate_normal\n",
    "import altair as alt"
   ]
  },
  {
   "cell_type": "code",
   "execution_count": 4,
   "metadata": {},
   "outputs": [],
   "source": [
    "new = pd.read_csv('https://raw.githubusercontent.com/UCSD-Historical-Enrollment-Data/2024Spring/main/overall/DSC%2010.csv', header=None, names=['time','enrolled','available','waitlisted','total'], low_memory=False)\n",
    "dsc10 = pd.read_csv('https://raw.githubusercontent.com/UCSD-Historical-Enrollment-Data/2024Spring/main/overall/DSC%2010.csv', header=None, names=['time','enrolled','available','waitlisted','total'], low_memory=False)\n",
    "dsc10 = dsc10.iloc[1:,:]\n",
    "dsc10['name'] = 'dsc10'\n",
    "\n",
    "dsc20 = pd.read_csv('https://raw.githubusercontent.com/UCSD-Historical-Enrollment-Data/2024Spring/main/overall/DSC%2020.csv', header=None, names=['time','enrolled','available','waitlisted','total'], low_memory=False)\n",
    "dsc20 = dsc20.iloc[1:,:]\n",
    "dsc20['name'] = 'dsc20'\n",
    "\n",
    "\n",
    "dsc30 = pd.read_csv('https://raw.githubusercontent.com/UCSD-Historical-Enrollment-Data/2024Spring/main/overall/DSC%2030.csv', header=None, names=['time','enrolled','available','waitlisted','total'], low_memory=False)\n",
    "dsc30 = dsc30.iloc[1:,:]\n",
    "dsc30['name'] = 'dsc30'\n",
    "\n",
    "dsc80 = pd.read_csv('https://raw.githubusercontent.com/UCSD-Historical-Enrollment-Data/2024Spring/main/overall/DSC%2080.csv', header=None, names=['time','enrolled','available','waitlisted','total'], low_memory=False)\n",
    "dsc80 = dsc80.iloc[1:,:]\n",
    "dsc80['name'] = 'dsc80'\n",
    "\n",
    "dsc40A = pd.read_csv('https://raw.githubusercontent.com/UCSD-Historical-Enrollment-Data/2024Spring/main/overall/DSC%2040A.csv', header=None, names=['time','enrolled','available','waitlisted','total'], low_memory=False)\n",
    "dsc40A = dsc40A.iloc[1:,:]\n",
    "dsc40A['name'] = 'dsc40A'\n",
    "\n",
    "dsc95 = pd.read_csv('https://raw.githubusercontent.com/UCSD-Historical-Enrollment-Data/2024Spring/main/overall/DSC%2095.csv', header=None, names=['time','enrolled','available','waitlisted','total'], low_memory=False)\n",
    "dsc95 = dsc95.iloc[1:,:]\n",
    "dsc95['name'] = 'dsc95'"
   ]
  },
  {
   "cell_type": "code",
   "execution_count": 6,
   "metadata": {},
   "outputs": [],
   "source": [
    "dsc10\n",
    "combine = pd.concat([dsc10, dsc20, dsc30, dsc80, dsc106])\n",
    "combine\n",
    "\n",
    "combine.to_csv(\"dsc_course.csv\")"
   ]
  },
  {
   "cell_type": "code",
   "execution_count": null,
   "metadata": {},
   "outputs": [],
   "source": []
  },
  {
   "cell_type": "code",
   "execution_count": null,
   "metadata": {},
   "outputs": [],
   "source": []
  }
 ],
 "metadata": {
  "kernelspec": {
   "display_name": "dsc80",
   "language": "python",
   "name": "python3"
  },
  "language_info": {
   "codemirror_mode": {
    "name": "ipython",
    "version": 3
   },
   "file_extension": ".py",
   "mimetype": "text/x-python",
   "name": "python",
   "nbconvert_exporter": "python",
   "pygments_lexer": "ipython3",
   "version": "3.8.18"
  }
 },
 "nbformat": 4,
 "nbformat_minor": 2
}
