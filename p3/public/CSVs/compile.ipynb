{
 "cells": [
  {
   "cell_type": "code",
   "execution_count": 2,
   "metadata": {},
   "outputs": [],
   "source": [
    "import numpy as np\n",
    "import math as math\n",
    "import pandas as pd\n",
    "import matplotlib.pyplot as plt\n",
    "from scipy.optimize import fsolve\n",
    "from scipy.stats import multivariate_normal\n",
    "import altair as alt"
   ]
  },
  {
   "cell_type": "code",
   "execution_count": 14,
   "metadata": {},
   "outputs": [],
   "source": [
    "mgt16 = pd.read_csv('https://raw.githubusercontent.com/UCSD-Historical-Enrollment-Data/2024Spring/main/overall/MGT%2016.csv', header=None, names=['time','enrolled','available','waitlisted','total'], low_memory=False)\n",
    "mgt16 = mgt16.iloc[1:,:]\n",
    "mgt16['name'] = 'mgt16'\n",
    "\n",
    "mgt71 = pd.read_csv('https://raw.githubusercontent.com/UCSD-Historical-Enrollment-Data/2024Spring/main/overall/MGT%2071.csv', header=None, names=['time','enrolled','available','waitlisted','total'], low_memory=False)\n",
    "mgt71 = mgt71.iloc[1:,:]\n",
    "mgt71['name'] = 'mgt71'\n",
    "\n",
    "\n",
    "mgt12 = pd.read_csv('https://raw.githubusercontent.com/UCSD-Historical-Enrollment-Data/2024Spring/main/overall/MGT%2012.csv', header=None, names=['time','enrolled','available','waitlisted','total'], low_memory=False)\n",
    "mgt12 = mgt12.iloc[1:,:]\n",
    "mgt12['name'] = 'mgt12'\n",
    "\n",
    "mgt137 = pd.read_csv('https://raw.githubusercontent.com/UCSD-Historical-Enrollment-Data/2024Spring/main/overall/MGT%20137.csv', header=None, names=['time','enrolled','available','waitlisted','total'], low_memory=False)\n",
    "mgt137 = mgt137.iloc[1:,:]\n",
    "mgt137['name'] = 'mgt137'\n",
    "\n",
    "mgt112 = pd.read_csv('https://raw.githubusercontent.com/UCSD-Historical-Enrollment-Data/2024Spring/main/overall/MGT%20112.csv', header=None, names=['time','enrolled','available','waitlisted','total'], low_memory=False)\n",
    "mgt112 = mgt112.iloc[1:,:]\n",
    "mgt112['name'] = 'mgt112'"
   ]
  },
  {
   "cell_type": "code",
   "execution_count": 16,
   "metadata": {},
   "outputs": [],
   "source": [
    "combine = pd.concat([mgt16, mgt71, mgt12, mgt137, mgt112])\n",
    "\n",
    "combine.to_csv(\"dsc_course.csv\")\n",
    "\n"
   ]
  },
  {
   "cell_type": "code",
   "execution_count": null,
   "metadata": {},
   "outputs": [],
   "source": []
  },
  {
   "cell_type": "code",
   "execution_count": null,
   "metadata": {},
   "outputs": [],
   "source": []
  }
 ],
 "metadata": {
  "kernelspec": {
   "display_name": "dsc80",
   "language": "python",
   "name": "python3"
  },
  "language_info": {
   "codemirror_mode": {
    "name": "ipython",
    "version": 3
   },
   "file_extension": ".py",
   "mimetype": "text/x-python",
   "name": "python",
   "nbconvert_exporter": "python",
   "pygments_lexer": "ipython3",
   "version": "3.8.18"
  }
 },
 "nbformat": 4,
 "nbformat_minor": 2
}
